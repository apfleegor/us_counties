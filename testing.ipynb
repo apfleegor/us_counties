{
 "cells": [
  {
   "cell_type": "code",
   "execution_count": 5,
   "metadata": {},
   "outputs": [],
   "source": [
    "import pandas as pd\n",
    "import json"
   ]
  },
  {
   "cell_type": "code",
   "execution_count": 6,
   "metadata": {},
   "outputs": [
    {
     "data": {
      "text/html": [
       "<div>\n",
       "<style scoped>\n",
       "    .dataframe tbody tr th:only-of-type {\n",
       "        vertical-align: middle;\n",
       "    }\n",
       "\n",
       "    .dataframe tbody tr th {\n",
       "        vertical-align: top;\n",
       "    }\n",
       "\n",
       "    .dataframe thead th {\n",
       "        text-align: right;\n",
       "    }\n",
       "</style>\n",
       "<table border=\"1\" class=\"dataframe\">\n",
       "  <thead>\n",
       "    <tr style=\"text-align: right;\">\n",
       "      <th></th>\n",
       "      <th>state</th>\n",
       "      <th>county</th>\n",
       "      <th>Label</th>\n",
       "    </tr>\n",
       "  </thead>\n",
       "  <tbody>\n",
       "    <tr>\n",
       "      <th>0</th>\n",
       "      <td>AL</td>\n",
       "      <td>Limestone</td>\n",
       "      <td>Traveling</td>\n",
       "    </tr>\n",
       "    <tr>\n",
       "      <th>1</th>\n",
       "      <td>AL</td>\n",
       "      <td>Madison</td>\n",
       "      <td>Less than 1 week</td>\n",
       "    </tr>\n",
       "    <tr>\n",
       "      <th>2</th>\n",
       "      <td>AL</td>\n",
       "      <td>Morgan</td>\n",
       "      <td>Traveling</td>\n",
       "    </tr>\n",
       "    <tr>\n",
       "      <th>3</th>\n",
       "      <td>AL</td>\n",
       "      <td>Lawrence</td>\n",
       "      <td>Traveling</td>\n",
       "    </tr>\n",
       "    <tr>\n",
       "      <th>4</th>\n",
       "      <td>AL</td>\n",
       "      <td>Colbert</td>\n",
       "      <td>Traveling</td>\n",
       "    </tr>\n",
       "  </tbody>\n",
       "</table>\n",
       "</div>"
      ],
      "text/plain": [
       "  state     county             Label\n",
       "0    AL  Limestone         Traveling\n",
       "1    AL    Madison  Less than 1 week\n",
       "2    AL     Morgan         Traveling\n",
       "3    AL   Lawrence         Traveling\n",
       "4    AL    Colbert         Traveling"
      ]
     },
     "execution_count": 6,
     "metadata": {},
     "output_type": "execute_result"
    }
   ],
   "source": [
    "df = pd.read_csv(\"been.csv\")\n",
    "\n",
    "\n",
    "df = df.rename(columns={'Abbreviation': 'state', 'County': 'county'})\n",
    "\n",
    "df.head()\n"
   ]
  },
  {
   "cell_type": "code",
   "execution_count": 7,
   "metadata": {},
   "outputs": [],
   "source": [
    "# traveling = df[df['Label']=='Traveling'].drop(columns=['Label'])\n",
    "# traveling.to_json(\"data/traveling_list.json\", orient='records')\n",
    "\n",
    "# one_week = df[df['Label'] == 'Less than 1 week'].drop(columns=['Label'])\n",
    "# one_week.to_json(\"data/one_week_list.json\", orient='records')\n",
    "\n",
    "# one_day = df[df['Label'] == 'Less than 1 day'].drop(columns=['Label'])\n",
    "# one_day.to_json(\"data/one_day_list.json\", orient='records')\n",
    "\n",
    "# lived = df[df['Label'] == 'Lived'].drop(columns=['Label'])\n",
    "# lived.to_json(\"data/lived_list.json\", orient='records')\n",
    "\n",
    "# more = df[df['Label'] == 'More than 1 week'].drop(columns=['Label'])\n",
    "# more.to_json(\"data/more_week_list.json\", orient='records')"
   ]
  },
  {
   "cell_type": "code",
   "execution_count": 8,
   "metadata": {},
   "outputs": [],
   "source": [
    "traveling = df[df['Label']=='Traveling'].drop(columns=['Label'])\n",
    "traveling_dict = traveling.to_dict(orient='records')\n",
    "\n",
    "one_week = df[df['Label'] == 'Less than 1 week'].drop(columns=['Label'])\n",
    "one_week_dict = one_week.to_dict(orient='records')\n",
    "\n",
    "one_day = df[df['Label'] == 'Less than 1 day'].drop(columns=['Label'])\n",
    "one_day_dict = one_day.to_dict(orient='records')\n",
    "\n",
    "lived = df[df['Label'] == 'Lived'].drop(columns=['Label'])\n",
    "lived_dict = lived.to_dict(orient='records')\n",
    "\n",
    "more = df[df['Label'] == 'More than 1 week'].drop(columns=['Label'])\n",
    "more_dict = more.to_dict(orient='records')\n",
    "\n",
    "final_dict = {\n",
    "    'traveling_list': traveling_dict,\n",
    "    'lived_list': lived_dict,\n",
    "    'one_day_list': one_day_dict,\n",
    "    'one_week_list': one_week_dict,\n",
    "    'more_list': more_dict\n",
    "}\n",
    "\n",
    "with open(\"data/data.json\", \"w\") as f:\n",
    "    json.dump(final_dict, f)"
   ]
  },
  {
   "cell_type": "code",
   "execution_count": null,
   "metadata": {},
   "outputs": [],
   "source": []
  }
 ],
 "metadata": {
  "kernelspec": {
   "display_name": "Python 3",
   "language": "python",
   "name": "python3"
  },
  "language_info": {
   "codemirror_mode": {
    "name": "ipython",
    "version": 3
   },
   "file_extension": ".py",
   "mimetype": "text/x-python",
   "name": "python",
   "nbconvert_exporter": "python",
   "pygments_lexer": "ipython3",
   "version": "3.11.4"
  }
 },
 "nbformat": 4,
 "nbformat_minor": 2
}
